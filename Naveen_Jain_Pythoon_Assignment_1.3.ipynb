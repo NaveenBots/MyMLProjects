{
 "cells": [
  {
   "cell_type": "markdown",
   "metadata": {},
   "source": [
    "# Option 1 "
   ]
  },
  {
   "cell_type": "code",
   "execution_count": 51,
   "metadata": {},
   "outputs": [
    {
     "name": "stdout",
     "output_type": "stream",
     "text": [
      "Please enter your First Name: Naveen\n",
      "Now enter your Last Name: Jain\n"
     ]
    }
   ],
   "source": [
    "first = input(\"Please enter your First Name: \")\n",
    "last = input(\"Now enter your Last Name: \")"
   ]
  },
  {
   "cell_type": "code",
   "execution_count": 52,
   "metadata": {},
   "outputs": [
    {
     "name": "stdout",
     "output_type": "stream",
     "text": [
      "Naveen Jain\n"
     ]
    }
   ],
   "source": [
    "fullname = first + ' ' + last\n",
    "print(fullname)"
   ]
  },
  {
   "cell_type": "code",
   "execution_count": 55,
   "metadata": {},
   "outputs": [
    {
     "name": "stdout",
     "output_type": "stream",
     "text": [
      "Naveen\n",
      "Jain\n",
      "neevaN\n",
      "niaJ\n"
     ]
    }
   ],
   "source": [
    "print (first)\n",
    "print (last)\n",
    "\n",
    "rfirst = first[::-1]\n",
    "print (rfirst)\n",
    "\n",
    "rlast = last[::-1]\n",
    "print (rlast)\n"
   ]
  },
  {
   "cell_type": "code",
   "execution_count": 56,
   "metadata": {},
   "outputs": [
    {
     "data": {
      "text/plain": [
       "'neevaN niaJ'"
      ]
     },
     "execution_count": 56,
     "metadata": {},
     "output_type": "execute_result"
    }
   ],
   "source": [
    "backwords = rfirst + ' ' + rlast\n",
    "backwords"
   ]
  },
  {
   "cell_type": "markdown",
   "metadata": {},
   "source": [
    "# Option 2"
   ]
  },
  {
   "cell_type": "code",
   "execution_count": 66,
   "metadata": {},
   "outputs": [
    {
     "name": "stdout",
     "output_type": "stream",
     "text": [
      "Please enter your First Name: Naveen\n",
      "Now enter your Last Name: Jain\n"
     ]
    }
   ],
   "source": [
    "first2 = input(\"Please enter your First Name: \")\n",
    "last2 = input(\"Now enter your Last Name: \")"
   ]
  },
  {
   "cell_type": "code",
   "execution_count": 67,
   "metadata": {},
   "outputs": [
    {
     "name": "stdout",
     "output_type": "stream",
     "text": [
      "['N', 'a', 'v', 'e', 'e', 'n']\n",
      "['J', 'a', 'i', 'n']\n"
     ]
    }
   ],
   "source": [
    "first2 = list(first2)\n",
    "last2 = list(last2)\n",
    "print (first2)\n",
    "print (last2)"
   ]
  },
  {
   "cell_type": "code",
   "execution_count": 68,
   "metadata": {},
   "outputs": [
    {
     "name": "stdout",
     "output_type": "stream",
     "text": [
      "neevaN\n",
      "niaJ\n"
     ]
    }
   ],
   "source": [
    "first2 = first2[::-1]\n",
    "first2 = ''.join(first2)\n",
    "print (first2)\n",
    "\n",
    "last2 = last2[::-1]\n",
    "last2 = ''.join(last2)\n",
    "print (last2)\n",
    "\n",
    "\n"
   ]
  },
  {
   "cell_type": "code",
   "execution_count": 69,
   "metadata": {
    "collapsed": true
   },
   "outputs": [],
   "source": [
    "backwords2 = first2 + ' ' + last2"
   ]
  },
  {
   "cell_type": "code",
   "execution_count": 71,
   "metadata": {},
   "outputs": [
    {
     "name": "stdout",
     "output_type": "stream",
     "text": [
      "neevaN niaJ\n"
     ]
    }
   ],
   "source": [
    "print (backwords2)"
   ]
  },
  {
   "cell_type": "code",
   "execution_count": null,
   "metadata": {
    "collapsed": true
   },
   "outputs": [],
   "source": []
  }
 ],
 "metadata": {
  "kernelspec": {
   "display_name": "Python 3",
   "language": "python",
   "name": "python3"
  },
  "language_info": {
   "codemirror_mode": {
    "name": "ipython",
    "version": 3
   },
   "file_extension": ".py",
   "mimetype": "text/x-python",
   "name": "python",
   "nbconvert_exporter": "python",
   "pygments_lexer": "ipython3",
   "version": "3.6.3"
  }
 },
 "nbformat": 4,
 "nbformat_minor": 2
}
