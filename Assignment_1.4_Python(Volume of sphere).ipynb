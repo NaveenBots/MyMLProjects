{
 "cells": [
  {
   "cell_type": "markdown",
   "metadata": {},
   "source": [
    "# Python Program to find volume of sphere"
   ]
  },
  {
   "cell_type": "code",
   "execution_count": 14,
   "metadata": {},
   "outputs": [],
   "source": [
    "import math\n",
    "\n",
    "# we need to get Voulme of Sphere\n",
    "\n",
    "# Volume of Sphere = 4 /3 * Pi * r**3\n",
    "\n",
    "#Declareing a diameter in CM\n",
    "\n",
    "D= 12   # as giving already\n",
    "\n",
    "r = D/2   # The radius is half the diameter that's why using r = D/2\n",
    "\n",
    "pi = math.pi\n",
    "\n",
    "V = ((4/3 * pi) * (r**3))\n"
   ]
  },
  {
   "cell_type": "code",
   "execution_count": 16,
   "metadata": {},
   "outputs": [
    {
     "name": "stdout",
     "output_type": "stream",
     "text": [
      "Volume of sphere with diamete 12 is :904.78\n"
     ]
    }
   ],
   "source": [
    "print (\"Volume of sphere with diamete 12 is :\" + str(round(V,2))) \n"
   ]
  },
  {
   "cell_type": "code",
   "execution_count": null,
   "metadata": {
    "collapsed": true
   },
   "outputs": [],
   "source": []
  }
 ],
 "metadata": {
  "kernelspec": {
   "display_name": "Python 3",
   "language": "python",
   "name": "python3"
  },
  "language_info": {
   "codemirror_mode": {
    "name": "ipython",
    "version": 3
   },
   "file_extension": ".py",
   "mimetype": "text/x-python",
   "name": "python",
   "nbconvert_exporter": "python",
   "pygments_lexer": "ipython3",
   "version": "3.6.3"
  }
 },
 "nbformat": 4,
 "nbformat_minor": 2
}
